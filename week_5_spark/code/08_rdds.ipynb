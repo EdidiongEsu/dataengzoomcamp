{
 "cells": [
  {
   "cell_type": "code",
   "execution_count": 1,
   "id": "78e90160",
   "metadata": {},
   "outputs": [
    {
     "name": "stderr",
     "output_type": "stream",
     "text": [
      "Setting default log level to \"WARN\".\n",
      "To adjust logging level use sc.setLogLevel(newLevel). For SparkR, use setLogLevel(newLevel).\n"
     ]
    },
    {
     "name": "stdout",
     "output_type": "stream",
     "text": [
      "24/03/04 10:09:32 WARN NativeCodeLoader: Unable to load native-hadoop library for your platform... using builtin-java classes where applicable\n"
     ]
    }
   ],
   "source": [
    "import pyspark\n",
    "from pyspark.sql import SparkSession\n",
    "\n",
    "spark = SparkSession.builder \\\n",
    "    .master(\"local[*]\") \\\n",
    "    .appName('test') \\\n",
    "    .getOrCreate()\n",
    "\n",
    "## Resilient distributed systems"
   ]
  },
  {
   "cell_type": "code",
   "execution_count": 2,
   "id": "344205af",
   "metadata": {},
   "outputs": [
    {
     "name": "stderr",
     "output_type": "stream",
     "text": [
      "                                                                                \r"
     ]
    }
   ],
   "source": [
    "df_green = spark.read.parquet('data/pq/green/*/*')"
   ]
  },
  {
   "cell_type": "code",
   "execution_count": 3,
   "id": "be597dd3",
   "metadata": {},
   "outputs": [],
   "source": [
    "rdd = df_green \\\n",
    "    .select('lpep_pickup_datetime', 'PULocationID', 'total_amount') \\\n",
    "    .rdd"
   ]
  },
  {
   "cell_type": "code",
   "execution_count": 4,
   "id": "67792d37",
   "metadata": {},
   "outputs": [],
   "source": [
    "from datetime import datetime"
   ]
  },
  {
   "cell_type": "code",
   "execution_count": 5,
   "id": "65c692df",
   "metadata": {},
   "outputs": [],
   "source": [
    "start = datetime(year=2020, month=1, day=1)\n",
    "\n",
    "def filter_outliers(row):\n",
    "    return row.lpep_pickup_datetime >= start\n",
    "\n",
    "## filter out old data"
   ]
  },
  {
   "cell_type": "code",
   "execution_count": 6,
   "id": "ed71f3c5",
   "metadata": {},
   "outputs": [
    {
     "name": "stderr",
     "output_type": "stream",
     "text": [
      "                                                                                \r"
     ]
    }
   ],
   "source": [
    "rows = rdd.take(10)"
   ]
  },
  {
   "cell_type": "code",
   "execution_count": 7,
   "id": "1a33250b",
   "metadata": {},
   "outputs": [],
   "source": [
    "row = rows[0]"
   ]
  },
  {
   "cell_type": "code",
   "execution_count": 8,
   "id": "c348bfd1-52d3-4b7c-9f1d-8b682c12ab81",
   "metadata": {},
   "outputs": [
    {
     "data": {
      "text/plain": [
       "Row(lpep_pickup_datetime=datetime.datetime(2020, 1, 23, 13, 10, 15), PULocationID=74, total_amount=44.97)"
      ]
     },
     "execution_count": 8,
     "metadata": {},
     "output_type": "execute_result"
    }
   ],
   "source": [
    "row"
   ]
  },
  {
   "cell_type": "code",
   "execution_count": 9,
   "id": "3d5a0040",
   "metadata": {},
   "outputs": [],
   "source": [
    "def prepare_for_grouping(row): \n",
    "    hour = row.lpep_pickup_datetime.replace(minute=0, second=0, microsecond=0)\n",
    "    zone = row.PULocationID\n",
    "    key = (hour, zone)\n",
    "    \n",
    "    amount = row.total_amount\n",
    "    count = 1\n",
    "    value = (amount, count)\n",
    "\n",
    "    return (key, value)"
   ]
  },
  {
   "cell_type": "code",
   "execution_count": 10,
   "id": "4c49a763-e9d0-4608-811b-03bf485dfc1f",
   "metadata": {},
   "outputs": [],
   "source": [
    "def calculate_revenue(left_value, right_value):\n",
    "    left_amount, left_count = left_value\n",
    "    right_amount, right_count = right_value\n",
    "    \n",
    "    output_amount = left_amount + right_amount\n",
    "    output_count = left_count + right_count\n",
    "    \n",
    "    return (output_amount, output_count)"
   ]
  },
  {
   "cell_type": "code",
   "execution_count": 11,
   "id": "89870013",
   "metadata": {},
   "outputs": [],
   "source": [
    "from collections import namedtuple"
   ]
  },
  {
   "cell_type": "code",
   "execution_count": 12,
   "id": "c899becb-5247-42ee-8317-d2e173ae416a",
   "metadata": {},
   "outputs": [],
   "source": [
    "RevenueRow = namedtuple('RevenueRow', ['hour', 'zone', 'revenue', 'count'])"
   ]
  },
  {
   "cell_type": "code",
   "execution_count": 13,
   "id": "4af6c550",
   "metadata": {},
   "outputs": [],
   "source": [
    "def unwrap(row):\n",
    "    return RevenueRow(\n",
    "        hour=row[0][0], \n",
    "        zone=row[0][1],\n",
    "        revenue=row[1][0],\n",
    "        count=row[1][1]\n",
    "    )\n"
   ]
  },
  {
   "cell_type": "code",
   "execution_count": 14,
   "id": "662865c2-e85b-42fe-baa9-31beaf404591",
   "metadata": {},
   "outputs": [
    {
     "name": "stderr",
     "output_type": "stream",
     "text": [
      "                                                                                \r"
     ]
    },
    {
     "name": "stdout",
     "output_type": "stream",
     "text": [
      "+-------------------+----+------------------+-----+\n",
      "|               hour|zone|           revenue|count|\n",
      "+-------------------+----+------------------+-----+\n",
      "|2020-01-20 15:00:00|  67|              79.5|    3|\n",
      "|2020-01-05 16:00:00|  82| 500.4700000000002|   33|\n",
      "|2020-01-16 08:00:00|  41| 736.1399999999996|   54|\n",
      "|2020-01-20 15:00:00|  75| 608.9999999999999|   47|\n",
      "|2020-01-17 21:00:00|  74|            594.87|   39|\n",
      "|2020-01-03 09:00:00|  61|            142.21|    9|\n",
      "|2020-01-13 19:00:00| 223|213.83000000000004|   19|\n",
      "|2020-01-16 13:00:00|  14|163.73999999999998|    6|\n",
      "|2020-01-12 15:00:00|  82| 265.7900000000001|   29|\n",
      "|2020-01-08 16:00:00|  72|            130.67|    7|\n",
      "|2020-01-03 11:00:00|  51| 305.9599999999999|   10|\n",
      "|2020-01-30 09:00:00|  22|114.80000000000001|    4|\n",
      "|2020-01-31 18:00:00| 260| 439.3100000000002|   27|\n",
      "|2020-01-10 20:00:00|  66|            405.88|   21|\n",
      "|2020-01-31 21:00:00|  41| 588.1600000000001|   40|\n",
      "|2020-01-23 22:00:00| 166|            297.84|   18|\n",
      "|2020-01-30 11:00:00|  37|             52.07|    2|\n",
      "|2020-01-14 08:00:00|  89|            200.97|    7|\n",
      "|2020-01-28 15:00:00|  75| 1745.249999999998|   99|\n",
      "|2020-01-23 12:00:00| 119|             51.89|    2|\n",
      "+-------------------+----+------------------+-----+\n",
      "only showing top 20 rows\n",
      "\n"
     ]
    }
   ],
   "source": [
    "rdd\\\n",
    "    .filter(filter_outliers)\\\n",
    "    .map(prepare_for_grouping)\\\n",
    "    .reduceByKey(calculate_revenue)\\\n",
    "    .map(unwrap)\\\n",
    "    .toDF()\\\n",
    "    .show()"
   ]
  },
  {
   "cell_type": "code",
   "execution_count": 15,
   "id": "7efe9d90",
   "metadata": {},
   "outputs": [],
   "source": [
    "from pyspark.sql import types"
   ]
  },
  {
   "cell_type": "code",
   "execution_count": 16,
   "id": "700712e8-1b49-410a-8fcf-65348b98b548",
   "metadata": {},
   "outputs": [],
   "source": [
    "\n",
    "result_schema = types.StructType([\n",
    "    types.StructField('hour', types.TimestampType(), True),\n",
    "    types.StructField('zone', types.IntegerType(), True),\n",
    "    types.StructField('revenue', types.DoubleType(), True),\n",
    "    types.StructField('count', types.IntegerType(), True)\n",
    "])"
   ]
  },
  {
   "cell_type": "code",
   "execution_count": 17,
   "id": "53d8e474-7b18-4e96-a1cf-b879c6c81374",
   "metadata": {},
   "outputs": [],
   "source": [
    "df_result = rdd \\\n",
    "    .filter(filter_outliers) \\\n",
    "    .map(prepare_for_grouping) \\\n",
    "    .reduceByKey(calculate_revenue) \\\n",
    "    .map(unwrap) \\\n",
    "    .toDF(result_schema) "
   ]
  },
  {
   "cell_type": "code",
   "execution_count": 18,
   "id": "187617e4-ae0b-4967-accf-beed37da9eaf",
   "metadata": {},
   "outputs": [
    {
     "name": "stderr",
     "output_type": "stream",
     "text": [
      "[Stage 6:===========================================================(4 + 0) / 4]\r"
     ]
    },
    {
     "name": "stdout",
     "output_type": "stream",
     "text": [
      "+-------------------+----+------------------+-----+\n",
      "|               hour|zone|           revenue|count|\n",
      "+-------------------+----+------------------+-----+\n",
      "|2020-01-20 15:00:00|  67|              79.5|    3|\n",
      "|2020-01-05 16:00:00|  82| 500.4700000000002|   33|\n",
      "|2020-01-16 08:00:00|  41| 736.1399999999996|   54|\n",
      "|2020-01-20 15:00:00|  75| 608.9999999999999|   47|\n",
      "|2020-01-17 21:00:00|  74|            594.87|   39|\n",
      "|2020-01-03 09:00:00|  61|            142.21|    9|\n",
      "|2020-01-13 19:00:00| 223|213.83000000000004|   19|\n",
      "|2020-01-16 13:00:00|  14|163.73999999999998|    6|\n",
      "|2020-01-12 15:00:00|  82| 265.7900000000001|   29|\n",
      "|2020-01-08 16:00:00|  72|            130.67|    7|\n",
      "|2020-01-03 11:00:00|  51| 305.9599999999999|   10|\n",
      "|2020-01-30 09:00:00|  22|114.80000000000001|    4|\n",
      "|2020-01-31 18:00:00| 260| 439.3100000000002|   27|\n",
      "|2020-01-10 20:00:00|  66|            405.88|   21|\n",
      "|2020-01-31 21:00:00|  41| 588.1600000000001|   40|\n",
      "|2020-01-23 22:00:00| 166|            297.84|   18|\n",
      "|2020-01-30 11:00:00|  37|             52.07|    2|\n",
      "|2020-01-14 08:00:00|  89|            200.97|    7|\n",
      "|2020-01-28 15:00:00|  75| 1745.249999999998|   99|\n",
      "|2020-01-23 12:00:00| 119|             51.89|    2|\n",
      "+-------------------+----+------------------+-----+\n",
      "only showing top 20 rows\n",
      "\n"
     ]
    },
    {
     "name": "stderr",
     "output_type": "stream",
     "text": [
      "                                                                                \r"
     ]
    }
   ],
   "source": [
    "df_result.show()"
   ]
  },
  {
   "cell_type": "code",
   "execution_count": 19,
   "id": "3f45f4f8-0290-4065-b980-4cc4a2acc94f",
   "metadata": {},
   "outputs": [
    {
     "name": "stderr",
     "output_type": "stream",
     "text": [
      "                                                                                \r"
     ]
    }
   ],
   "source": [
    "df_result.write.parquet('tmp/green-revenue', mode = 'overwrite')"
   ]
  },
  {
   "cell_type": "code",
   "execution_count": 20,
   "id": "3ce678d9-7638-467d-b347-677a35e1c437",
   "metadata": {},
   "outputs": [],
   "source": [
    "columns = ['VendorID', 'lpep_pickup_datetime', 'PULocationID', 'DOLocationID', 'trip_distance']\n",
    "\n",
    "duration_rdd = df_green \\\n",
    "    .select(columns) \\\n",
    "    .rdd"
   ]
  },
  {
   "cell_type": "code",
   "execution_count": 25,
   "id": "8066c6e9-f73e-4d79-8dfa-659d7ac5a6d0",
   "metadata": {},
   "outputs": [
    {
     "data": {
      "text/plain": [
       "[Row(VendorID=2, lpep_pickup_datetime=datetime.datetime(2020, 1, 23, 13, 10, 15), PULocationID=74, DOLocationID=130, trip_distance=12.77),\n",
       " Row(VendorID=None, lpep_pickup_datetime=datetime.datetime(2020, 1, 20, 15, 9), PULocationID=67, DOLocationID=39, trip_distance=8.0),\n",
       " Row(VendorID=2, lpep_pickup_datetime=datetime.datetime(2020, 1, 15, 20, 23, 41), PULocationID=260, DOLocationID=157, trip_distance=1.27),\n",
       " Row(VendorID=2, lpep_pickup_datetime=datetime.datetime(2020, 1, 5, 16, 32, 26), PULocationID=82, DOLocationID=83, trip_distance=1.25),\n",
       " Row(VendorID=2, lpep_pickup_datetime=datetime.datetime(2020, 1, 29, 19, 22, 42), PULocationID=166, DOLocationID=42, trip_distance=1.84)]"
      ]
     },
     "execution_count": 25,
     "metadata": {},
     "output_type": "execute_result"
    }
   ],
   "source": [
    "duration_rdd.take(5)"
   ]
  },
  {
   "cell_type": "code",
   "execution_count": 21,
   "id": "58a6dd75-e66e-438a-87cb-1bba8e535de7",
   "metadata": {},
   "outputs": [],
   "source": [
    "import pandas as pd"
   ]
  },
  {
   "cell_type": "code",
   "execution_count": 22,
   "id": "1e8bce06-6c1a-4ded-aefb-d8a99af8e577",
   "metadata": {},
   "outputs": [],
   "source": [
    "rows = duration_rdd.take(10)\n",
    "df = pd.DataFrame(rows, columns=columns)"
   ]
  },
  {
   "cell_type": "code",
   "execution_count": 23,
   "id": "c3f1220f-44fe-494f-beeb-d4699a0c06c8",
   "metadata": {},
   "outputs": [
    {
     "data": {
      "text/plain": [
       "['VendorID',\n",
       " 'lpep_pickup_datetime',\n",
       " 'PULocationID',\n",
       " 'DOLocationID',\n",
       " 'trip_distance']"
      ]
     },
     "execution_count": 23,
     "metadata": {},
     "output_type": "execute_result"
    }
   ],
   "source": [
    "columns"
   ]
  },
  {
   "cell_type": "code",
   "execution_count": 26,
   "id": "46931b23-cdf5-4127-8465-108cbe3a6dcf",
   "metadata": {},
   "outputs": [],
   "source": [
    "#model = ...\n",
    "\n",
    "def model_predict(df):\n",
    "#     y_pred = model.predict(df)\n",
    "    y_pred = df.trip_distance * 5\n",
    "    return y_pred"
   ]
  },
  {
   "cell_type": "code",
   "execution_count": 27,
   "id": "cb0e8a08-2b18-4441-b85e-8a271235f292",
   "metadata": {},
   "outputs": [],
   "source": [
    "def apply_model_in_batch(rows):\n",
    "    df = pd.DataFrame(rows, columns=columns)\n",
    "    predictions = model_predict(df)\n",
    "    df['predicted_duration'] = predictions\n",
    "\n",
    "    for row in df.itertuples():\n",
    "        yield row\n"
   ]
  },
  {
   "cell_type": "code",
   "execution_count": 28,
   "id": "ca56c6bf-2bb2-4aad-a404-1de66c4d3984",
   "metadata": {},
   "outputs": [
    {
     "name": "stderr",
     "output_type": "stream",
     "text": [
      "                                                                                \r"
     ]
    }
   ],
   "source": [
    "df_predicts = duration_rdd \\\n",
    "    .mapPartitions(apply_model_in_batch)\\\n",
    "    .toDF() \\\n",
    "    .drop('Index')"
   ]
  },
  {
   "cell_type": "code",
   "execution_count": 31,
   "id": "29abc4f2-9123-4663-8f77-7952b33513d2",
   "metadata": {},
   "outputs": [],
   "source": [
    "def infinite_seq():\n",
    "    i=0\n",
    "\n",
    "    while True:\n",
    "        yield i\n",
    "        i = i + 1\n",
    "\n",
    "        if i>15:\n",
    "            break"
   ]
  },
  {
   "cell_type": "code",
   "execution_count": 32,
   "id": "2bb26f21-ba5f-46e8-a9d5-e54d10d1e886",
   "metadata": {},
   "outputs": [],
   "source": [
    "seq = infinite_seq()    "
   ]
  },
  {
   "cell_type": "code",
   "execution_count": 33,
   "id": "601730fe-19f2-44d8-a6df-5d437b6c5f7a",
   "metadata": {},
   "outputs": [
    {
     "data": {
      "text/plain": [
       "[0, 1, 2, 3, 4, 5, 6, 7, 8, 9, 10, 11, 12, 13, 14, 15]"
      ]
     },
     "execution_count": 33,
     "metadata": {},
     "output_type": "execute_result"
    }
   ],
   "source": [
    "list(seq)"
   ]
  },
  {
   "cell_type": "code",
   "execution_count": null,
   "id": "643ddf90-103e-4cf0-a594-3bbcf392fa2d",
   "metadata": {},
   "outputs": [],
   "source": [
    "for i in seq:\n",
    "    print(i)\n",
    "\n",
    "    if i >= 10:\n",
    "        break "
   ]
  },
  {
   "cell_type": "code",
   "execution_count": 34,
   "id": "e642c67d-d4a2-4497-9bbe-63d449042be8",
   "metadata": {},
   "outputs": [
    {
     "name": "stderr",
     "output_type": "stream",
     "text": [
      "[Stage 13:>                                                         (0 + 1) / 1]\r"
     ]
    },
    {
     "name": "stdout",
     "output_type": "stream",
     "text": [
      "+------------------+\n",
      "|predicted_duration|\n",
      "+------------------+\n",
      "|63.849999999999994|\n",
      "|              40.0|\n",
      "|              6.35|\n",
      "|              6.25|\n",
      "| 9.200000000000001|\n",
      "|               3.8|\n",
      "|16.599999999999998|\n",
      "|             11.05|\n",
      "|               4.5|\n",
      "|              30.5|\n",
      "|               8.7|\n",
      "|5.8999999999999995|\n",
      "|              11.0|\n",
      "|              15.2|\n",
      "|              4.25|\n",
      "|25.299999999999997|\n",
      "|7.8500000000000005|\n",
      "|              34.0|\n",
      "| 5.300000000000001|\n",
      "|              6.15|\n",
      "+------------------+\n",
      "only showing top 20 rows\n",
      "\n"
     ]
    },
    {
     "name": "stderr",
     "output_type": "stream",
     "text": [
      "                                                                                \r"
     ]
    }
   ],
   "source": [
    "df_predicts.select('predicted_duration').show()"
   ]
  },
  {
   "cell_type": "code",
   "execution_count": null,
   "id": "3b6e05d7-2e85-414a-a80b-7dcb9dab3434",
   "metadata": {},
   "outputs": [],
   "source": []
  },
  {
   "cell_type": "code",
   "execution_count": null,
   "id": "11ced611-f2b2-416d-97f5-5a7e9ad12454",
   "metadata": {},
   "outputs": [],
   "source": []
  }
 ],
 "metadata": {
  "kernelspec": {
   "display_name": "Python 3 (ipykernel)",
   "language": "python",
   "name": "python3"
  },
  "language_info": {
   "codemirror_mode": {
    "name": "ipython",
    "version": 3
   },
   "file_extension": ".py",
   "mimetype": "text/x-python",
   "name": "python",
   "nbconvert_exporter": "python",
   "pygments_lexer": "ipython3",
   "version": "3.10.13"
  }
 },
 "nbformat": 4,
 "nbformat_minor": 5
}
